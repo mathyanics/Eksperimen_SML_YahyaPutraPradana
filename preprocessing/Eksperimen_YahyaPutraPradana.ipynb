{
 "cells": [
  {
   "cell_type": "markdown",
   "metadata": {
    "id": "kZLRMFl0JyyQ"
   },
   "source": [
    "# **1. Perkenalan Dataset**\n"
   ]
  },
  {
   "cell_type": "markdown",
   "metadata": {},
   "source": [
    "Pada bagian ini, kita akan memperkenalkan dataset yang digunakan dalam eksperimen, termasuk sumber dan deskripsi singkat mengenai isi dataset."
   ]
  },
  {
   "cell_type": "markdown",
   "metadata": {
    "id": "hssSDn-5n3HR"
   },
   "source": [
    "Tahap pertama adalah mencari dan menggunakan dataset sesuai ketentuan berikut:\n",
    "\n",
    "1. **Sumber Dataset**:  \n",
    "   Dataset dapat diperoleh dari [Kaggle - Retail Case Study Data](https://www.kaggle.com/datasets/darpan25bajaj/retail-case-study-data).\n",
    "\n",
    "2. **Deskripsi Dataset**:  \n",
    "   Dataset ini terdiri dari tiga file CSV yang berisi informasi transaksi ritel:\n",
    "   - **Customer.csv**: Data demografis pelanggan\n",
    "   - **Transactions.csv**: Data transaksi yang dilakukan pelanggan\n",
    "   - **prod_cat_info.csv**: Informasi mengenai kategori dan sub-kategori produk"
   ]
  },
  {
   "cell_type": "markdown",
   "metadata": {
    "id": "fKADPWcFKlj3"
   },
   "source": [
    "# **2. Import Library**"
   ]
  },
  {
   "cell_type": "markdown",
   "metadata": {
    "id": "LgA3ERnVn84N"
   },
   "source": [
    "Pada tahap ini, kita mengimpor pustaka (library) Python yang dibutuhkan untuk analisis data, visualisasi, dan data preprocessing."
   ]
  },
  {
   "cell_type": "code",
   "execution_count": 1,
   "metadata": {
    "id": "BlmvjLY9M4Yj"
   },
   "outputs": [],
   "source": [
    "import pandas as pd\n",
    "import numpy as np\n",
    "import matplotlib.pyplot as plt\n",
    "import seaborn as sns\n",
    "from datetime import datetime"
   ]
  },
  {
   "cell_type": "markdown",
   "metadata": {
    "id": "f3YIEnAFKrKL"
   },
   "source": [
    "# **3. Memuat Dataset**"
   ]
  },
  {
   "cell_type": "markdown",
   "metadata": {
    "id": "Ey3ItwTen_7E"
   },
   "source": [
    "Dataset dimuat ke dalam notebook menggunakan pustaka `pandas`. Kita akan memuat ketiga file CSV ke dalam DataFrame terpisah dan memeriksa beberapa baris pertama dari setiap DataFrame menggunakan `.head()` untuk memahami strukturnya dan memastikan data telah dimuat dengan benar."
   ]
  },
  {
   "cell_type": "code",
   "execution_count": 2,
   "metadata": {
    "id": "GHCGNTyrM5fS"
   },
   "outputs": [],
   "source": [
    "customer_df = pd.read_csv(\"../salesdata_raw/Customer.csv\")\n",
    "transactions_df = pd.read_csv(\"../salesdata_raw/Transactions.csv\")\n",
    "prod_cat_info_df = pd.read_csv(\"../salesdata_raw/prod_cat_info.csv\")"
   ]
  },
  {
   "cell_type": "code",
   "execution_count": 3,
   "metadata": {},
   "outputs": [
    {
     "name": "stdout",
     "output_type": "stream",
     "text": [
      "Customer DataFrame head:\n"
     ]
    },
    {
     "data": {
      "text/html": [
       "<div>\n",
       "<style scoped>\n",
       "    .dataframe tbody tr th:only-of-type {\n",
       "        vertical-align: middle;\n",
       "    }\n",
       "\n",
       "    .dataframe tbody tr th {\n",
       "        vertical-align: top;\n",
       "    }\n",
       "\n",
       "    .dataframe thead th {\n",
       "        text-align: right;\n",
       "    }\n",
       "</style>\n",
       "<table border=\"1\" class=\"dataframe\">\n",
       "  <thead>\n",
       "    <tr style=\"text-align: right;\">\n",
       "      <th></th>\n",
       "      <th>customer_Id</th>\n",
       "      <th>DOB</th>\n",
       "      <th>Gender</th>\n",
       "      <th>city_code</th>\n",
       "    </tr>\n",
       "  </thead>\n",
       "  <tbody>\n",
       "    <tr>\n",
       "      <th>0</th>\n",
       "      <td>268408</td>\n",
       "      <td>02-01-1970</td>\n",
       "      <td>M</td>\n",
       "      <td>4.0</td>\n",
       "    </tr>\n",
       "    <tr>\n",
       "      <th>1</th>\n",
       "      <td>269696</td>\n",
       "      <td>07-01-1970</td>\n",
       "      <td>F</td>\n",
       "      <td>8.0</td>\n",
       "    </tr>\n",
       "    <tr>\n",
       "      <th>2</th>\n",
       "      <td>268159</td>\n",
       "      <td>08-01-1970</td>\n",
       "      <td>F</td>\n",
       "      <td>8.0</td>\n",
       "    </tr>\n",
       "    <tr>\n",
       "      <th>3</th>\n",
       "      <td>270181</td>\n",
       "      <td>10-01-1970</td>\n",
       "      <td>F</td>\n",
       "      <td>2.0</td>\n",
       "    </tr>\n",
       "    <tr>\n",
       "      <th>4</th>\n",
       "      <td>268073</td>\n",
       "      <td>11-01-1970</td>\n",
       "      <td>M</td>\n",
       "      <td>1.0</td>\n",
       "    </tr>\n",
       "  </tbody>\n",
       "</table>\n",
       "</div>"
      ],
      "text/plain": [
       "   customer_Id         DOB Gender  city_code\n",
       "0       268408  02-01-1970      M        4.0\n",
       "1       269696  07-01-1970      F        8.0\n",
       "2       268159  08-01-1970      F        8.0\n",
       "3       270181  10-01-1970      F        2.0\n",
       "4       268073  11-01-1970      M        1.0"
      ]
     },
     "execution_count": 3,
     "metadata": {},
     "output_type": "execute_result"
    }
   ],
   "source": [
    "print(\"Customer DataFrame head:\")\n",
    "customer_df.head()"
   ]
  },
  {
   "cell_type": "code",
   "execution_count": 4,
   "metadata": {},
   "outputs": [
    {
     "name": "stdout",
     "output_type": "stream",
     "text": [
      "Transactions DataFrame head:\n"
     ]
    },
    {
     "data": {
      "text/html": [
       "<div>\n",
       "<style scoped>\n",
       "    .dataframe tbody tr th:only-of-type {\n",
       "        vertical-align: middle;\n",
       "    }\n",
       "\n",
       "    .dataframe tbody tr th {\n",
       "        vertical-align: top;\n",
       "    }\n",
       "\n",
       "    .dataframe thead th {\n",
       "        text-align: right;\n",
       "    }\n",
       "</style>\n",
       "<table border=\"1\" class=\"dataframe\">\n",
       "  <thead>\n",
       "    <tr style=\"text-align: right;\">\n",
       "      <th></th>\n",
       "      <th>transaction_id</th>\n",
       "      <th>cust_id</th>\n",
       "      <th>tran_date</th>\n",
       "      <th>prod_subcat_code</th>\n",
       "      <th>prod_cat_code</th>\n",
       "      <th>Qty</th>\n",
       "      <th>Rate</th>\n",
       "      <th>Tax</th>\n",
       "      <th>total_amt</th>\n",
       "      <th>Store_type</th>\n",
       "    </tr>\n",
       "  </thead>\n",
       "  <tbody>\n",
       "    <tr>\n",
       "      <th>0</th>\n",
       "      <td>80712190438</td>\n",
       "      <td>270351</td>\n",
       "      <td>28-02-2014</td>\n",
       "      <td>1</td>\n",
       "      <td>1</td>\n",
       "      <td>-5</td>\n",
       "      <td>-772</td>\n",
       "      <td>405.300</td>\n",
       "      <td>-4265.300</td>\n",
       "      <td>e-Shop</td>\n",
       "    </tr>\n",
       "    <tr>\n",
       "      <th>1</th>\n",
       "      <td>29258453508</td>\n",
       "      <td>270384</td>\n",
       "      <td>27-02-2014</td>\n",
       "      <td>5</td>\n",
       "      <td>3</td>\n",
       "      <td>-5</td>\n",
       "      <td>-1497</td>\n",
       "      <td>785.925</td>\n",
       "      <td>-8270.925</td>\n",
       "      <td>e-Shop</td>\n",
       "    </tr>\n",
       "    <tr>\n",
       "      <th>2</th>\n",
       "      <td>51750724947</td>\n",
       "      <td>273420</td>\n",
       "      <td>24-02-2014</td>\n",
       "      <td>6</td>\n",
       "      <td>5</td>\n",
       "      <td>-2</td>\n",
       "      <td>-791</td>\n",
       "      <td>166.110</td>\n",
       "      <td>-1748.110</td>\n",
       "      <td>TeleShop</td>\n",
       "    </tr>\n",
       "    <tr>\n",
       "      <th>3</th>\n",
       "      <td>93274880719</td>\n",
       "      <td>271509</td>\n",
       "      <td>24-02-2014</td>\n",
       "      <td>11</td>\n",
       "      <td>6</td>\n",
       "      <td>-3</td>\n",
       "      <td>-1363</td>\n",
       "      <td>429.345</td>\n",
       "      <td>-4518.345</td>\n",
       "      <td>e-Shop</td>\n",
       "    </tr>\n",
       "    <tr>\n",
       "      <th>4</th>\n",
       "      <td>51750724947</td>\n",
       "      <td>273420</td>\n",
       "      <td>23-02-2014</td>\n",
       "      <td>6</td>\n",
       "      <td>5</td>\n",
       "      <td>-2</td>\n",
       "      <td>-791</td>\n",
       "      <td>166.110</td>\n",
       "      <td>-1748.110</td>\n",
       "      <td>TeleShop</td>\n",
       "    </tr>\n",
       "  </tbody>\n",
       "</table>\n",
       "</div>"
      ],
      "text/plain": [
       "   transaction_id  cust_id   tran_date  prod_subcat_code  prod_cat_code  Qty  \\\n",
       "0     80712190438   270351  28-02-2014                 1              1   -5   \n",
       "1     29258453508   270384  27-02-2014                 5              3   -5   \n",
       "2     51750724947   273420  24-02-2014                 6              5   -2   \n",
       "3     93274880719   271509  24-02-2014                11              6   -3   \n",
       "4     51750724947   273420  23-02-2014                 6              5   -2   \n",
       "\n",
       "   Rate      Tax  total_amt Store_type  \n",
       "0  -772  405.300  -4265.300     e-Shop  \n",
       "1 -1497  785.925  -8270.925     e-Shop  \n",
       "2  -791  166.110  -1748.110   TeleShop  \n",
       "3 -1363  429.345  -4518.345     e-Shop  \n",
       "4  -791  166.110  -1748.110   TeleShop  "
      ]
     },
     "execution_count": 4,
     "metadata": {},
     "output_type": "execute_result"
    }
   ],
   "source": [
    "print(\"Transactions DataFrame head:\")\n",
    "transactions_df.head()"
   ]
  },
  {
   "cell_type": "code",
   "execution_count": 5,
   "metadata": {},
   "outputs": [
    {
     "name": "stdout",
     "output_type": "stream",
     "text": [
      "Product Category Info DataFrame head:\n"
     ]
    },
    {
     "data": {
      "text/html": [
       "<div>\n",
       "<style scoped>\n",
       "    .dataframe tbody tr th:only-of-type {\n",
       "        vertical-align: middle;\n",
       "    }\n",
       "\n",
       "    .dataframe tbody tr th {\n",
       "        vertical-align: top;\n",
       "    }\n",
       "\n",
       "    .dataframe thead th {\n",
       "        text-align: right;\n",
       "    }\n",
       "</style>\n",
       "<table border=\"1\" class=\"dataframe\">\n",
       "  <thead>\n",
       "    <tr style=\"text-align: right;\">\n",
       "      <th></th>\n",
       "      <th>prod_cat_code</th>\n",
       "      <th>prod_cat</th>\n",
       "      <th>prod_sub_cat_code</th>\n",
       "      <th>prod_subcat</th>\n",
       "    </tr>\n",
       "  </thead>\n",
       "  <tbody>\n",
       "    <tr>\n",
       "      <th>0</th>\n",
       "      <td>1</td>\n",
       "      <td>Clothing</td>\n",
       "      <td>4</td>\n",
       "      <td>Mens</td>\n",
       "    </tr>\n",
       "    <tr>\n",
       "      <th>1</th>\n",
       "      <td>1</td>\n",
       "      <td>Clothing</td>\n",
       "      <td>1</td>\n",
       "      <td>Women</td>\n",
       "    </tr>\n",
       "    <tr>\n",
       "      <th>2</th>\n",
       "      <td>1</td>\n",
       "      <td>Clothing</td>\n",
       "      <td>3</td>\n",
       "      <td>Kids</td>\n",
       "    </tr>\n",
       "    <tr>\n",
       "      <th>3</th>\n",
       "      <td>2</td>\n",
       "      <td>Footwear</td>\n",
       "      <td>1</td>\n",
       "      <td>Mens</td>\n",
       "    </tr>\n",
       "    <tr>\n",
       "      <th>4</th>\n",
       "      <td>2</td>\n",
       "      <td>Footwear</td>\n",
       "      <td>3</td>\n",
       "      <td>Women</td>\n",
       "    </tr>\n",
       "  </tbody>\n",
       "</table>\n",
       "</div>"
      ],
      "text/plain": [
       "   prod_cat_code  prod_cat  prod_sub_cat_code prod_subcat\n",
       "0              1  Clothing                  4        Mens\n",
       "1              1  Clothing                  1       Women\n",
       "2              1  Clothing                  3        Kids\n",
       "3              2  Footwear                  1        Mens\n",
       "4              2  Footwear                  3       Women"
      ]
     },
     "execution_count": 5,
     "metadata": {},
     "output_type": "execute_result"
    }
   ],
   "source": [
    "print(\"Product Category Info DataFrame head:\")\n",
    "prod_cat_info_df.head()"
   ]
  },
  {
   "cell_type": "markdown",
   "metadata": {
    "id": "bgZkbJLpK9UR"
   },
   "source": [
    "# **4. Exploratory Data Analysis (EDA)**\n",
    "\n",
    "Pada tahap ini, kita akan melakukan **Exploratory Data Analysis (EDA)** untuk memahami karakteristik setiap dataset. Tujuan dari EDA adalah untuk memperoleh wawasan awal mengenai data, seperti tipe data, ringkasan statistik, dan keberadaan nilai yang hilang. Ini akan membantu menentukan langkah-langkah yang diperlukan dalam data preprocessing."
   ]
  },
  {
   "cell_type": "code",
   "execution_count": 6,
   "metadata": {
    "id": "dKeejtvxM6X1"
   },
   "outputs": [
    {
     "name": "stdout",
     "output_type": "stream",
     "text": [
      "Customer DataFrame Info:\n",
      "<class 'pandas.core.frame.DataFrame'>\n",
      "RangeIndex: 5647 entries, 0 to 5646\n",
      "Data columns (total 4 columns):\n",
      " #   Column       Non-Null Count  Dtype  \n",
      "---  ------       --------------  -----  \n",
      " 0   customer_Id  5647 non-null   int64  \n",
      " 1   DOB          5647 non-null   object \n",
      " 2   Gender       5645 non-null   object \n",
      " 3   city_code    5645 non-null   float64\n",
      "dtypes: float64(1), int64(1), object(2)\n",
      "memory usage: 176.6+ KB\n"
     ]
    }
   ],
   "source": [
    "print(\"Customer DataFrame Info:\")\n",
    "customer_df.info()"
   ]
  },
  {
   "cell_type": "code",
   "execution_count": 7,
   "metadata": {},
   "outputs": [
    {
     "name": "stdout",
     "output_type": "stream",
     "text": [
      "Transactions DataFrame Info:\n",
      "<class 'pandas.core.frame.DataFrame'>\n",
      "RangeIndex: 23053 entries, 0 to 23052\n",
      "Data columns (total 10 columns):\n",
      " #   Column            Non-Null Count  Dtype  \n",
      "---  ------            --------------  -----  \n",
      " 0   transaction_id    23053 non-null  int64  \n",
      " 1   cust_id           23053 non-null  int64  \n",
      " 2   tran_date         23053 non-null  object \n",
      " 3   prod_subcat_code  23053 non-null  int64  \n",
      " 4   prod_cat_code     23053 non-null  int64  \n",
      " 5   Qty               23053 non-null  int64  \n",
      " 6   Rate              23053 non-null  int64  \n",
      " 7   Tax               23053 non-null  float64\n",
      " 8   total_amt         23053 non-null  float64\n",
      " 9   Store_type        23053 non-null  object \n",
      "dtypes: float64(2), int64(6), object(2)\n",
      "memory usage: 1.8+ MB\n"
     ]
    }
   ],
   "source": [
    "print(\"Transactions DataFrame Info:\")\n",
    "transactions_df.info()"
   ]
  },
  {
   "cell_type": "code",
   "execution_count": 8,
   "metadata": {},
   "outputs": [
    {
     "name": "stdout",
     "output_type": "stream",
     "text": [
      "Product Category Info DataFrame Info:\n",
      "<class 'pandas.core.frame.DataFrame'>\n",
      "RangeIndex: 23 entries, 0 to 22\n",
      "Data columns (total 4 columns):\n",
      " #   Column             Non-Null Count  Dtype \n",
      "---  ------             --------------  ----- \n",
      " 0   prod_cat_code      23 non-null     int64 \n",
      " 1   prod_cat           23 non-null     object\n",
      " 2   prod_sub_cat_code  23 non-null     int64 \n",
      " 3   prod_subcat        23 non-null     object\n",
      "dtypes: int64(2), object(2)\n",
      "memory usage: 868.0+ bytes\n"
     ]
    }
   ],
   "source": [
    "print(\"Product Category Info DataFrame Info:\")\n",
    "prod_cat_info_df.info()"
   ]
  },
  {
   "cell_type": "code",
   "execution_count": 9,
   "metadata": {},
   "outputs": [
    {
     "name": "stdout",
     "output_type": "stream",
     "text": [
      "Customer DataFrame Description:\n",
      "          customer_Id         DOB Gender    city_code\n",
      "count     5647.000000        5647   5645  5645.000000\n",
      "unique            NaN        4056      2          NaN\n",
      "top               NaN  27-12-1988      M          NaN\n",
      "freq              NaN           7   2892          NaN\n",
      "mean    271037.281034         NaN    NaN     5.472631\n",
      "std       2451.261711         NaN    NaN     2.859918\n",
      "min     266783.000000         NaN    NaN     1.000000\n",
      "25%     268912.000000         NaN    NaN     3.000000\n",
      "50%     271028.000000         NaN    NaN     5.000000\n",
      "75%     273180.000000         NaN    NaN     8.000000\n",
      "max     275265.000000         NaN    NaN    10.000000\n"
     ]
    }
   ],
   "source": [
    "print(\"Customer DataFrame Description:\")\n",
    "print(customer_df.describe(include=\"all\"))"
   ]
  },
  {
   "cell_type": "code",
   "execution_count": 10,
   "metadata": {},
   "outputs": [
    {
     "name": "stdout",
     "output_type": "stream",
     "text": [
      "Transactions DataFrame Description:\n",
      "        transaction_id        cust_id   tran_date  prod_subcat_code  \\\n",
      "count     2.305300e+04   23053.000000       23053      23053.000000   \n",
      "unique             NaN            NaN        1129               NaN   \n",
      "top                NaN            NaN  13-07-2011               NaN   \n",
      "freq               NaN            NaN          35               NaN   \n",
      "mean      5.007348e+10  271021.746497         NaN          6.149091   \n",
      "std       2.898194e+10    2431.692059         NaN          3.726372   \n",
      "min       3.268991e+06  266783.000000         NaN          1.000000   \n",
      "25%       2.493864e+10  268935.000000         NaN          3.000000   \n",
      "50%       5.009313e+10  270980.000000         NaN          5.000000   \n",
      "75%       7.533000e+10  273114.000000         NaN         10.000000   \n",
      "max       9.998755e+10  275265.000000         NaN         12.000000   \n",
      "\n",
      "        prod_cat_code           Qty          Rate           Tax     total_amt  \\\n",
      "count    23053.000000  23053.000000  23053.000000  23053.000000  23053.000000   \n",
      "unique            NaN           NaN           NaN           NaN           NaN   \n",
      "top               NaN           NaN           NaN           NaN           NaN   \n",
      "freq              NaN           NaN           NaN           NaN           NaN   \n",
      "mean         3.763632      2.432395    636.369713    248.667192   2107.308002   \n",
      "std          1.677016      2.268406    622.363498    187.177773   2507.561264   \n",
      "min          1.000000     -5.000000  -1499.000000      7.350000  -8270.925000   \n",
      "25%          2.000000      1.000000    312.000000     98.280000    762.450000   \n",
      "50%          4.000000      3.000000    710.000000    199.080000   1754.740000   \n",
      "75%          5.000000      4.000000   1109.000000    365.715000   3569.150000   \n",
      "max          6.000000      5.000000   1500.000000    787.500000   8287.500000   \n",
      "\n",
      "       Store_type  \n",
      "count       23053  \n",
      "unique          4  \n",
      "top        e-Shop  \n",
      "freq         9311  \n",
      "mean          NaN  \n",
      "std           NaN  \n",
      "min           NaN  \n",
      "25%           NaN  \n",
      "50%           NaN  \n",
      "75%           NaN  \n",
      "max           NaN  \n"
     ]
    }
   ],
   "source": [
    "print(\"Transactions DataFrame Description:\")\n",
    "print(transactions_df.describe(include=\"all\"))"
   ]
  },
  {
   "cell_type": "code",
   "execution_count": 11,
   "metadata": {},
   "outputs": [
    {
     "name": "stdout",
     "output_type": "stream",
     "text": [
      "Product Category Info DataFrame Description:\n",
      "        prod_cat_code prod_cat  prod_sub_cat_code prod_subcat\n",
      "count       23.000000       23          23.000000          23\n",
      "unique            NaN        6                NaN          18\n",
      "top               NaN    Books                NaN        Mens\n",
      "freq              NaN        6                NaN           3\n",
      "mean         3.739130      NaN           6.130435         NaN\n",
      "std          1.711389      NaN           3.805550         NaN\n",
      "min          1.000000      NaN           1.000000         NaN\n",
      "25%          2.500000      NaN           3.000000         NaN\n",
      "50%          4.000000      NaN           5.000000         NaN\n",
      "75%          5.000000      NaN          10.000000         NaN\n",
      "max          6.000000      NaN          12.000000         NaN\n"
     ]
    }
   ],
   "source": [
    "print(\"Product Category Info DataFrame Description:\")\n",
    "print(prod_cat_info_df.describe(include=\"all\"))"
   ]
  },
  {
   "cell_type": "markdown",
   "metadata": {},
   "source": [
    "Selanjutnya, kita memeriksa keberadaan nilai yang hilang (missing values) di setiap DataFrame. Hasil menunjukkan bahwa `customer_df` memiliki 2 nilai yang hilang di kolom 'Gender' dan 'city_code', sementara dua DataFrame lainnya bersih dari nilai yang hilang. Visualisasi heatmap memperjelas lokasi nilai-nilai yang hilang ini."
   ]
  },
  {
   "cell_type": "code",
   "execution_count": 12,
   "metadata": {},
   "outputs": [
    {
     "name": "stdout",
     "output_type": "stream",
     "text": [
      "Missing values in Customer DataFrame:\n",
      "customer_Id    0\n",
      "DOB            0\n",
      "Gender         2\n",
      "city_code      2\n",
      "dtype: int64\n",
      "----------------------------------------\n",
      "Missing values in Transactions DataFrame:\n",
      "transaction_id      0\n",
      "cust_id             0\n",
      "tran_date           0\n",
      "prod_subcat_code    0\n",
      "prod_cat_code       0\n",
      "Qty                 0\n",
      "Rate                0\n",
      "Tax                 0\n",
      "total_amt           0\n",
      "Store_type          0\n",
      "dtype: int64\n",
      "----------------------------------------\n",
      "Missing values in Product Category Info DataFrame:\n",
      "prod_cat_code        0\n",
      "prod_cat             0\n",
      "prod_sub_cat_code    0\n",
      "prod_subcat          0\n",
      "dtype: int64\n"
     ]
    }
   ],
   "source": [
    "print(\"Missing values in Customer DataFrame:\")\n",
    "print(customer_df.isnull().sum())\n",
    "print(\"-\" * 40)\n",
    "print(\"Missing values in Transactions DataFrame:\")\n",
    "print(transactions_df.isnull().sum())\n",
    "print(\"-\" * 40)\n",
    "print(\"Missing values in Product Category Info DataFrame:\")\n",
    "print(prod_cat_info_df.isnull().sum())"
   ]
  },
  {
   "cell_type": "code",
   "execution_count": 13,
   "metadata": {},
   "outputs": [
    {
     "data": {
      "image/png": "[encoded data removed]",
      "text/plain": [
       "<Figure size 1500x500 with 3 Axes>"
      ]
     },
     "metadata": {},
     "output_type": "display_data"
    }
   ],
   "source": [
    "# Visualize missing values\n",
    "plt.figure(figsize=(15, 5))\n",
    "plt.subplot(1, 3, 1)\n",
    "sns.heatmap(customer_df.isnull(), cbar=False, cmap=\"viridis\")\n",
    "plt.title(\"Missing Values in Customer Data\")\n",
    "plt.subplot(1, 3, 2)\n",
    "sns.heatmap(transactions_df.isnull(), cbar=False, cmap=\"viridis\")\n",
    "plt.title(\"Missing Values in Transactions Data\")\n",
    "plt.subplot(1, 3, 3)\n",
    "sns.heatmap(prod_cat_info_df.isnull(), cbar=False, cmap=\"viridis\")\n",
    "plt.title(\"Missing Values in Product Category Info Data\")\n",
    "plt.tight_layout()\n",
    "plt.show()"
   ]
  },
  {
   "cell_type": "markdown",
   "metadata": {
    "id": "cpgHfgnSK3ip"
   },
   "source": [
    "# **5. Data Preprocessing**"
   ]
  },
  {
   "cell_type": "markdown",
   "metadata": {
    "id": "COf8KUPXLg5r"
   },
   "source": [
    "Pada tahap ini, kita melakukan preprocessing untuk memastikan kualitas data sebelum digunakan. Data mentah sering kali mengandung nilai kosong, duplikasi, atau format yang tidak konsisten. Proses ini bertujuan untuk membersihkan dan mempersiapkan data agar analisis berjalan optimal."
   ]
  },
  {
   "cell_type": "markdown",
   "metadata": {},
   "source": [
    "### 5.1 Menggabungkan Datasets\n",
    "Langkah pertama dalam preprocessing adalah menggabungkan ketiga DataFrame (`customer_df`, `transactions_df`, `prod_cat_info_df`) menjadi satu DataFrame tunggal (`full_df`). Penggabungan ini dilakukan agar semua informasi relevan (pelanggan, transaksi, dan produk) berada dalam satu tabel, yang memudahkan analisis dan pemodelan."
   ]
  },
  {
   "cell_type": "code",
   "execution_count": 14,
   "metadata": {
    "id": "Og8pGV0-iDLz"
   },
   "outputs": [
    {
     "name": "stdout",
     "output_type": "stream",
     "text": [
      "Merged DataFrame head:\n"
     ]
    },
    {
     "data": {
      "text/html": [
       "<div>\n",
       "<style scoped>\n",
       "    .dataframe tbody tr th:only-of-type {\n",
       "        vertical-align: middle;\n",
       "    }\n",
       "\n",
       "    .dataframe tbody tr th {\n",
       "        vertical-align: top;\n",
       "    }\n",
       "\n",
       "    .dataframe thead th {\n",
       "        text-align: right;\n",
       "    }\n",
       "</style>\n",
       "<table border=\"1\" class=\"dataframe\">\n",
       "  <thead>\n",
       "    <tr style=\"text-align: right;\">\n",
       "      <th></th>\n",
       "      <th>customer_Id</th>\n",
       "      <th>DOB</th>\n",
       "      <th>Gender</th>\n",
       "      <th>city_code</th>\n",
       "      <th>transaction_id</th>\n",
       "      <th>cust_id</th>\n",
       "      <th>tran_date</th>\n",
       "      <th>prod_subcat_code</th>\n",
       "      <th>prod_cat_code</th>\n",
       "      <th>Qty</th>\n",
       "      <th>Rate</th>\n",
       "      <th>Tax</th>\n",
       "      <th>total_amt</th>\n",
       "      <th>Store_type</th>\n",
       "      <th>prod_cat</th>\n",
       "      <th>prod_sub_cat_code</th>\n",
       "      <th>prod_subcat</th>\n",
       "    </tr>\n",
       "  </thead>\n",
       "  <tbody>\n",
       "    <tr>\n",
       "      <th>0</th>\n",
       "      <td>268408</td>\n",
       "      <td>02-01-1970</td>\n",
       "      <td>M</td>\n",
       "      <td>4.0</td>\n",
       "      <td>87243835584</td>\n",
       "      <td>268408</td>\n",
       "      <td>13-01-2014</td>\n",
       "      <td>7</td>\n",
       "      <td>5</td>\n",
       "      <td>5</td>\n",
       "      <td>187</td>\n",
       "      <td>98.175</td>\n",
       "      <td>1033.175</td>\n",
       "      <td>TeleShop</td>\n",
       "      <td>Books</td>\n",
       "      <td>7</td>\n",
       "      <td>Fiction</td>\n",
       "    </tr>\n",
       "    <tr>\n",
       "      <th>1</th>\n",
       "      <td>268408</td>\n",
       "      <td>02-01-1970</td>\n",
       "      <td>M</td>\n",
       "      <td>4.0</td>\n",
       "      <td>87243835584</td>\n",
       "      <td>268408</td>\n",
       "      <td>13-01-2014</td>\n",
       "      <td>7</td>\n",
       "      <td>5</td>\n",
       "      <td>5</td>\n",
       "      <td>187</td>\n",
       "      <td>98.175</td>\n",
       "      <td>1033.175</td>\n",
       "      <td>TeleShop</td>\n",
       "      <td>Books</td>\n",
       "      <td>12</td>\n",
       "      <td>Academic</td>\n",
       "    </tr>\n",
       "    <tr>\n",
       "      <th>2</th>\n",
       "      <td>268408</td>\n",
       "      <td>02-01-1970</td>\n",
       "      <td>M</td>\n",
       "      <td>4.0</td>\n",
       "      <td>87243835584</td>\n",
       "      <td>268408</td>\n",
       "      <td>13-01-2014</td>\n",
       "      <td>7</td>\n",
       "      <td>5</td>\n",
       "      <td>5</td>\n",
       "      <td>187</td>\n",
       "      <td>98.175</td>\n",
       "      <td>1033.175</td>\n",
       "      <td>TeleShop</td>\n",
       "      <td>Books</td>\n",
       "      <td>10</td>\n",
       "      <td>Non-Fiction</td>\n",
       "    </tr>\n",
       "    <tr>\n",
       "      <th>3</th>\n",
       "      <td>268408</td>\n",
       "      <td>02-01-1970</td>\n",
       "      <td>M</td>\n",
       "      <td>4.0</td>\n",
       "      <td>87243835584</td>\n",
       "      <td>268408</td>\n",
       "      <td>13-01-2014</td>\n",
       "      <td>7</td>\n",
       "      <td>5</td>\n",
       "      <td>5</td>\n",
       "      <td>187</td>\n",
       "      <td>98.175</td>\n",
       "      <td>1033.175</td>\n",
       "      <td>TeleShop</td>\n",
       "      <td>Books</td>\n",
       "      <td>11</td>\n",
       "      <td>Children</td>\n",
       "    </tr>\n",
       "    <tr>\n",
       "      <th>4</th>\n",
       "      <td>268408</td>\n",
       "      <td>02-01-1970</td>\n",
       "      <td>M</td>\n",
       "      <td>4.0</td>\n",
       "      <td>87243835584</td>\n",
       "      <td>268408</td>\n",
       "      <td>13-01-2014</td>\n",
       "      <td>7</td>\n",
       "      <td>5</td>\n",
       "      <td>5</td>\n",
       "      <td>187</td>\n",
       "      <td>98.175</td>\n",
       "      <td>1033.175</td>\n",
       "      <td>TeleShop</td>\n",
       "      <td>Books</td>\n",
       "      <td>3</td>\n",
       "      <td>Comics</td>\n",
       "    </tr>\n",
       "  </tbody>\n",
       "</table>\n",
       "</div>"
      ],
      "text/plain": [
       "   customer_Id         DOB Gender  city_code  transaction_id  cust_id  \\\n",
       "0       268408  02-01-1970      M        4.0     87243835584   268408   \n",
       "1       268408  02-01-1970      M        4.0     87243835584   268408   \n",
       "2       268408  02-01-1970      M        4.0     87243835584   268408   \n",
       "3       268408  02-01-1970      M        4.0     87243835584   268408   \n",
       "4       268408  02-01-1970      M        4.0     87243835584   268408   \n",
       "\n",
       "    tran_date  prod_subcat_code  prod_cat_code  Qty  Rate     Tax  total_amt  \\\n",
       "0  13-01-2014                 7              5    5   187  98.175   1033.175   \n",
       "1  13-01-2014                 7              5    5   187  98.175   1033.175   \n",
       "2  13-01-2014                 7              5    5   187  98.175   1033.175   \n",
       "3  13-01-2014                 7              5    5   187  98.175   1033.175   \n",
       "4  13-01-2014                 7              5    5   187  98.175   1033.175   \n",
       "\n",
       "  Store_type prod_cat  prod_sub_cat_code  prod_subcat  \n",
       "0   TeleShop    Books                  7      Fiction  \n",
       "1   TeleShop    Books                 12     Academic  \n",
       "2   TeleShop    Books                 10  Non-Fiction  \n",
       "3   TeleShop    Books                 11     Children  \n",
       "4   TeleShop    Books                  3       Comics  "
      ]
     },
     "execution_count": 14,
     "metadata": {},
     "output_type": "execute_result"
    }
   ],
   "source": [
    "# Merging dataframes\n",
    "customer_transactions = pd.merge(customer_df, transactions_df, left_on='customer_Id', right_on='cust_id', how='inner')\n",
    "full_df = pd.merge(customer_transactions, prod_cat_info_df, left_on='prod_cat_code', right_on='prod_cat_code', how='inner')\n",
    "\n",
    "print(\"Merged DataFrame head:\")\n",
    "full_df.head()"
   ]
  },
  {
   "cell_type": "code",
   "execution_count": 15,
   "metadata": {},
   "outputs": [
    {
     "name": "stdout",
     "output_type": "stream",
     "text": [
      "Merged DataFrame Info:\n",
      "<class 'pandas.core.frame.DataFrame'>\n",
      "RangeIndex: 99293 entries, 0 to 99292\n",
      "Data columns (total 17 columns):\n",
      " #   Column             Non-Null Count  Dtype  \n",
      "---  ------             --------------  -----  \n",
      " 0   customer_Id        99293 non-null  int64  \n",
      " 1   DOB                99293 non-null  object \n",
      " 2   Gender             99253 non-null  object \n",
      " 3   city_code          99257 non-null  float64\n",
      " 4   transaction_id     99293 non-null  int64  \n",
      " 5   cust_id            99293 non-null  int64  \n",
      " 6   tran_date          99293 non-null  object \n",
      " 7   prod_subcat_code   99293 non-null  int64  \n",
      " 8   prod_cat_code      99293 non-null  int64  \n",
      " 9   Qty                99293 non-null  int64  \n",
      " 10  Rate               99293 non-null  int64  \n",
      " 11  Tax                99293 non-null  float64\n",
      " 12  total_amt          99293 non-null  float64\n",
      " 13  Store_type         99293 non-null  object \n",
      " 14  prod_cat           99293 non-null  object \n",
      " 15  prod_sub_cat_code  99293 non-null  int64  \n",
      " 16  prod_subcat        99293 non-null  object \n",
      "dtypes: float64(3), int64(8), object(6)\n",
      "memory usage: 12.9+ MB\n"
     ]
    }
   ],
   "source": [
    "print(\"Merged DataFrame Info:\")\n",
    "full_df.info()"
   ]
  },
  {
   "cell_type": "markdown",
   "metadata": {},
   "source": [
    "### 5.2 Menangani Nilai Hilang (Missing Values)\n",
    "Setelah digabungkan, kita memeriksa kembali nilai yang hilang. Ditemukan beberapa baris dengan data yang tidak lengkap. Untuk kesederhanaan, kita memilih untuk menghapus baris-baris ini menggunakan `.dropna()`. Pendekatan yang lebih kompleks seperti imputasi (mengisi nilai yang hilang dengan mean, median, atau modus) dapat dipertimbangkan jika jumlah data yang hilang signifikan."
   ]
  },
  {
   "cell_type": "code",
   "execution_count": 16,
   "metadata": {},
   "outputs": [
    {
     "name": "stdout",
     "output_type": "stream",
     "text": [
      "Dropped 76 rows with missing values.\n"
     ]
    }
   ],
   "source": [
    "# Handle missing values (example: fill with mode for categorical, mean/median for numerical)\n",
    "# For simplicity, let's drop rows with any missing values for now. A more robust approach would be imputation.\n",
    "initial_rows = full_df.shape[0]\n",
    "full_df.dropna(inplace=True)\n",
    "print(f\"Dropped {initial_rows - full_df.shape[0]} rows with missing values.\")"
   ]
  },
  {
   "cell_type": "markdown",
   "metadata": {},
   "source": [
    "### 5.3 Konversi Tipe Data Tanggal\n",
    "\n",
    "Pada tahap ini, kolom 'DOB' (tanggal lahir) dan 'tran_date' (tanggal transaksi) dikonversi ke tipe data datetime. Konversi ini penting agar kita dapat melakukan analisis berbasis waktu, seperti menghitung usia pelanggan atau umur transaksi."
   ]
  },
  {
   "cell_type": "code",
   "execution_count": 17,
   "metadata": {},
   "outputs": [],
   "source": [
    "full_df[\"DOB\"] = pd.to_datetime(full_df[\"DOB\"], errors=\"coerce\", dayfirst=True)\n",
    "full_df[\"tran_date\"] = pd.to_datetime(full_df[\"tran_date\"], errors=\"coerce\", dayfirst=True)"
   ]
  },
  {
   "cell_type": "markdown",
   "metadata": {},
   "source": [
    "### 5.4 Feature Engineering dan Encoding\n",
    "\n",
    "Pada tahap ini dilakukan pembuatan fitur baru, seperti menghitung usia pelanggan dan umur transaksi. Selain itu, variabel kategorikal seperti 'Gender', 'prod_cat', dan 'prod_subcat' diubah menjadi bentuk numerik menggunakan teknik one-hot encoding agar dapat digunakan dalam pemodelan machine learning."
   ]
  },
  {
   "cell_type": "code",
   "execution_count": 18,
   "metadata": {},
   "outputs": [],
   "source": [
    "# Feature Engineering: Calculate age and transaction age\n",
    "current_date = datetime.now()\n",
    "full_df[\"age\"] = (current_date.year - full_df[\"DOB\"].dt.year) - ((current_date.month < full_df[\"DOB\"].dt.month) | ((current_date.month == full_df[\"DOB\"].dt.month) & (current_date.day < full_df[\"DOB\"].dt.day)))\n",
    "full_df[\"transaction_age\"] = (current_date - full_df[\"tran_date\"]).dt.days\n",
    "\n",
    "# Encoding categorical variables (example: One-Hot Encoding for \\'Gender\\', \\'prod_cat\\', \\'prod_subcat\\')\n",
    "full_df = pd.get_dummies(full_df, columns=['Gender', 'prod_cat', 'prod_subcat'], drop_first=True)\n",
    "\n",
    "# Drop original ID columns and other columns not needed for modeling\n",
    "full_df.drop(columns=['customer_Id', 'cust_id', 'prod_cat_code', 'prod_sub_cat_code', 'DOB', 'tran_date'], inplace=True)"
   ]
  },
  {
   "cell_type": "code",
   "execution_count": 19,
   "metadata": {},
   "outputs": [
    {
     "data": {
      "text/html": [
       "<div>\n",
       "<style scoped>\n",
       "    .dataframe tbody tr th:only-of-type {\n",
       "        vertical-align: middle;\n",
       "    }\n",
       "\n",
       "    .dataframe tbody tr th {\n",
       "        vertical-align: top;\n",
       "    }\n",
       "\n",
       "    .dataframe thead th {\n",
       "        text-align: right;\n",
       "    }\n",
       "</style>\n",
       "<table border=\"1\" class=\"dataframe\">\n",
       "  <thead>\n",
       "    <tr style=\"text-align: right;\">\n",
       "      <th></th>\n",
       "      <th>city_code</th>\n",
       "      <th>transaction_id</th>\n",
       "      <th>prod_subcat_code</th>\n",
       "      <th>Qty</th>\n",
       "      <th>Rate</th>\n",
       "      <th>Tax</th>\n",
       "      <th>total_amt</th>\n",
       "      <th>Store_type</th>\n",
       "      <th>age</th>\n",
       "      <th>transaction_age</th>\n",
       "      <th>...</th>\n",
       "      <th>prod_subcat_Fiction</th>\n",
       "      <th>prod_subcat_Furnishing</th>\n",
       "      <th>prod_subcat_Kids</th>\n",
       "      <th>prod_subcat_Kitchen</th>\n",
       "      <th>prod_subcat_Mens</th>\n",
       "      <th>prod_subcat_Mobiles</th>\n",
       "      <th>prod_subcat_Non-Fiction</th>\n",
       "      <th>prod_subcat_Personal Appliances</th>\n",
       "      <th>prod_subcat_Tools</th>\n",
       "      <th>prod_subcat_Women</th>\n",
       "    </tr>\n",
       "  </thead>\n",
       "  <tbody>\n",
       "    <tr>\n",
       "      <th>0</th>\n",
       "      <td>4.0</td>\n",
       "      <td>87243835584</td>\n",
       "      <td>7</td>\n",
       "      <td>5</td>\n",
       "      <td>187</td>\n",
       "      <td>98.175</td>\n",
       "      <td>1033.175</td>\n",
       "      <td>TeleShop</td>\n",
       "      <td>55</td>\n",
       "      <td>4185.0</td>\n",
       "      <td>...</td>\n",
       "      <td>True</td>\n",
       "      <td>False</td>\n",
       "      <td>False</td>\n",
       "      <td>False</td>\n",
       "      <td>False</td>\n",
       "      <td>False</td>\n",
       "      <td>False</td>\n",
       "      <td>False</td>\n",
       "      <td>False</td>\n",
       "      <td>False</td>\n",
       "    </tr>\n",
       "    <tr>\n",
       "      <th>1</th>\n",
       "      <td>4.0</td>\n",
       "      <td>87243835584</td>\n",
       "      <td>7</td>\n",
       "      <td>5</td>\n",
       "      <td>187</td>\n",
       "      <td>98.175</td>\n",
       "      <td>1033.175</td>\n",
       "      <td>TeleShop</td>\n",
       "      <td>55</td>\n",
       "      <td>4185.0</td>\n",
       "      <td>...</td>\n",
       "      <td>False</td>\n",
       "      <td>False</td>\n",
       "      <td>False</td>\n",
       "      <td>False</td>\n",
       "      <td>False</td>\n",
       "      <td>False</td>\n",
       "      <td>False</td>\n",
       "      <td>False</td>\n",
       "      <td>False</td>\n",
       "      <td>False</td>\n",
       "    </tr>\n",
       "    <tr>\n",
       "      <th>2</th>\n",
       "      <td>4.0</td>\n",
       "      <td>87243835584</td>\n",
       "      <td>7</td>\n",
       "      <td>5</td>\n",
       "      <td>187</td>\n",
       "      <td>98.175</td>\n",
       "      <td>1033.175</td>\n",
       "      <td>TeleShop</td>\n",
       "      <td>55</td>\n",
       "      <td>4185.0</td>\n",
       "      <td>...</td>\n",
       "      <td>False</td>\n",
       "      <td>False</td>\n",
       "      <td>False</td>\n",
       "      <td>False</td>\n",
       "      <td>False</td>\n",
       "      <td>False</td>\n",
       "      <td>True</td>\n",
       "      <td>False</td>\n",
       "      <td>False</td>\n",
       "      <td>False</td>\n",
       "    </tr>\n",
       "    <tr>\n",
       "      <th>3</th>\n",
       "      <td>4.0</td>\n",
       "      <td>87243835584</td>\n",
       "      <td>7</td>\n",
       "      <td>5</td>\n",
       "      <td>187</td>\n",
       "      <td>98.175</td>\n",
       "      <td>1033.175</td>\n",
       "      <td>TeleShop</td>\n",
       "      <td>55</td>\n",
       "      <td>4185.0</td>\n",
       "      <td>...</td>\n",
       "      <td>False</td>\n",
       "      <td>False</td>\n",
       "      <td>False</td>\n",
       "      <td>False</td>\n",
       "      <td>False</td>\n",
       "      <td>False</td>\n",
       "      <td>False</td>\n",
       "      <td>False</td>\n",
       "      <td>False</td>\n",
       "      <td>False</td>\n",
       "    </tr>\n",
       "    <tr>\n",
       "      <th>4</th>\n",
       "      <td>4.0</td>\n",
       "      <td>87243835584</td>\n",
       "      <td>7</td>\n",
       "      <td>5</td>\n",
       "      <td>187</td>\n",
       "      <td>98.175</td>\n",
       "      <td>1033.175</td>\n",
       "      <td>TeleShop</td>\n",
       "      <td>55</td>\n",
       "      <td>4185.0</td>\n",
       "      <td>...</td>\n",
       "      <td>False</td>\n",
       "      <td>False</td>\n",
       "      <td>False</td>\n",
       "      <td>False</td>\n",
       "      <td>False</td>\n",
       "      <td>False</td>\n",
       "      <td>False</td>\n",
       "      <td>False</td>\n",
       "      <td>False</td>\n",
       "      <td>False</td>\n",
       "    </tr>\n",
       "  </tbody>\n",
       "</table>\n",
       "<p>5 rows × 33 columns</p>\n",
       "</div>"
      ],
      "text/plain": [
       "   city_code  transaction_id  prod_subcat_code  Qty  Rate     Tax  total_amt  \\\n",
       "0        4.0     87243835584                 7    5   187  98.175   1033.175   \n",
       "1        4.0     87243835584                 7    5   187  98.175   1033.175   \n",
       "2        4.0     87243835584                 7    5   187  98.175   1033.175   \n",
       "3        4.0     87243835584                 7    5   187  98.175   1033.175   \n",
       "4        4.0     87243835584                 7    5   187  98.175   1033.175   \n",
       "\n",
       "  Store_type  age  transaction_age  ...  prod_subcat_Fiction  \\\n",
       "0   TeleShop   55           4185.0  ...                 True   \n",
       "1   TeleShop   55           4185.0  ...                False   \n",
       "2   TeleShop   55           4185.0  ...                False   \n",
       "3   TeleShop   55           4185.0  ...                False   \n",
       "4   TeleShop   55           4185.0  ...                False   \n",
       "\n",
       "   prod_subcat_Furnishing  prod_subcat_Kids  prod_subcat_Kitchen  \\\n",
       "0                   False             False                False   \n",
       "1                   False             False                False   \n",
       "2                   False             False                False   \n",
       "3                   False             False                False   \n",
       "4                   False             False                False   \n",
       "\n",
       "   prod_subcat_Mens  prod_subcat_Mobiles  prod_subcat_Non-Fiction  \\\n",
       "0             False                False                    False   \n",
       "1             False                False                    False   \n",
       "2             False                False                     True   \n",
       "3             False                False                    False   \n",
       "4             False                False                    False   \n",
       "\n",
       "   prod_subcat_Personal Appliances  prod_subcat_Tools  prod_subcat_Women  \n",
       "0                            False              False              False  \n",
       "1                            False              False              False  \n",
       "2                            False              False              False  \n",
       "3                            False              False              False  \n",
       "4                            False              False              False  \n",
       "\n",
       "[5 rows x 33 columns]"
      ]
     },
     "execution_count": 19,
     "metadata": {},
     "output_type": "execute_result"
    }
   ],
   "source": [
    "full_df.head()"
   ]
  },
  {
   "cell_type": "code",
   "execution_count": 20,
   "metadata": {},
   "outputs": [
    {
     "name": "stdout",
     "output_type": "stream",
     "text": [
      "Preprocessed DataFrame Info:\n",
      "<class 'pandas.core.frame.DataFrame'>\n",
      "Index: 99217 entries, 0 to 99292\n",
      "Data columns (total 33 columns):\n",
      " #   Column                           Non-Null Count  Dtype  \n",
      "---  ------                           --------------  -----  \n",
      " 0   city_code                        99217 non-null  float64\n",
      " 1   transaction_id                   99217 non-null  int64  \n",
      " 2   prod_subcat_code                 99217 non-null  int64  \n",
      " 3   Qty                              99217 non-null  int64  \n",
      " 4   Rate                             99217 non-null  int64  \n",
      " 5   Tax                              99217 non-null  float64\n",
      " 6   total_amt                        99217 non-null  float64\n",
      " 7   Store_type                       99217 non-null  object \n",
      " 8   age                              99217 non-null  int32  \n",
      " 9   transaction_age                  59818 non-null  float64\n",
      " 10  Gender_M                         99217 non-null  bool   \n",
      " 11  prod_cat_Books                   99217 non-null  bool   \n",
      " 12  prod_cat_Clothing                99217 non-null  bool   \n",
      " 13  prod_cat_Electronics             99217 non-null  bool   \n",
      " 14  prod_cat_Footwear                99217 non-null  bool   \n",
      " 15  prod_cat_Home and kitchen        99217 non-null  bool   \n",
      " 16  prod_subcat_Audio and video      99217 non-null  bool   \n",
      " 17  prod_subcat_Bath                 99217 non-null  bool   \n",
      " 18  prod_subcat_Cameras              99217 non-null  bool   \n",
      " 19  prod_subcat_Children             99217 non-null  bool   \n",
      " 20  prod_subcat_Comics               99217 non-null  bool   \n",
      " 21  prod_subcat_Computers            99217 non-null  bool   \n",
      " 22  prod_subcat_DIY                  99217 non-null  bool   \n",
      " 23  prod_subcat_Fiction              99217 non-null  bool   \n",
      " 24  prod_subcat_Furnishing           99217 non-null  bool   \n",
      " 25  prod_subcat_Kids                 99217 non-null  bool   \n",
      " 26  prod_subcat_Kitchen              99217 non-null  bool   \n",
      " 27  prod_subcat_Mens                 99217 non-null  bool   \n",
      " 28  prod_subcat_Mobiles              99217 non-null  bool   \n",
      " 29  prod_subcat_Non-Fiction          99217 non-null  bool   \n",
      " 30  prod_subcat_Personal Appliances  99217 non-null  bool   \n",
      " 31  prod_subcat_Tools                99217 non-null  bool   \n",
      " 32  prod_subcat_Women                99217 non-null  bool   \n",
      "dtypes: bool(23), float64(4), int32(1), int64(4), object(1)\n",
      "memory usage: 10.1+ MB\n"
     ]
    }
   ],
   "source": [
    "print(\"Preprocessed DataFrame Info:\")\n",
    "full_df.info()"
   ]
  },
  {
   "cell_type": "markdown",
   "metadata": {},
   "source": [
    "Pada tahap ini, kita telah menyelesaikan proses preprocessing data. Data telah dibersihkan dari nilai hilang, tipe data tanggal telah dikonversi, fitur baru seperti usia pelanggan dan umur transaksi telah ditambahkan, serta variabel kategorikal telah diubah menjadi bentuk numerik menggunakan one-hot encoding. Data yang telah diproses ini siap digunakan untuk analisis lebih lanjut atau pemodelan machine learning."
   ]
  },
  {
   "cell_type": "code",
   "execution_count": 21,
   "metadata": {},
   "outputs": [],
   "source": [
    "# Save the preprocessed data\n",
    "full_df.to_csv(\"salesdata_preprocessing/preprocessed_data.csv\", index=False)"
   ]
  }
 ],
 "metadata": {
  "accelerator": "GPU",
  "colab": {
   "gpuType": "T4",
   "provenance": []
  },
  "kernelspec": {
   "display_name": "mlops-project",
   "language": "python",
   "name": "python3"
  },
  "language_info": {
   "codemirror_mode": {
    "name": "ipython",
    "version": 3
   },
   "file_extension": ".py",
   "mimetype": "text/x-python",
   "name": "python",
   "nbconvert_exporter": "python",
   "pygments_lexer": "ipython3",
   "version": "3.11.13"
  }
 },
 "nbformat": 4,
 "nbformat_minor": 0
}
